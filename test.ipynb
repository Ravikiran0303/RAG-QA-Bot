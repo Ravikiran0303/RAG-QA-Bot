{
 "cells": [
  {
   "cell_type": "code",
   "execution_count": 1,
   "metadata": {},
   "outputs": [
    {
     "data": {
      "text/plain": [
       "False"
      ]
     },
     "execution_count": 1,
     "metadata": {},
     "output_type": "execute_result"
    }
   ],
   "source": [
    "import os\n",
    "from dotenv import load_dotenv\n",
    "load_dotenv()"
   ]
  },
  {
   "cell_type": "code",
   "execution_count": 2,
   "metadata": {},
   "outputs": [],
   "source": [
    "def read_api_key(file_path):\n",
    "    with open(file_path, 'r') as f:\n",
    "        for line in f:\n",
    "            if line.startswith('OPENAI_API_KEY='):\n",
    "                api_key = line.strip().split('=')[1].strip('\"')\n",
    "                return api_key\n",
    "    return None\n",
    "\n",
    "# Path to your key.txt file\n",
    "key_file_path = r'C:\\Ravikiran\\Projects\\RAG\\key.txt'\n",
    "\n",
    "# Read the API key\n",
    "api_key = read_api_key(key_file_path)"
   ]
  },
  {
   "cell_type": "code",
   "execution_count": 3,
   "metadata": {},
   "outputs": [],
   "source": [
    "os.environ[\"OPENAI_API_KEY\"] = api_key\n"
   ]
  },
  {
   "cell_type": "code",
   "execution_count": 4,
   "metadata": {},
   "outputs": [],
   "source": [
    "from llama_index.core import VectorStoreIndex, SimpleDirectoryReader\n",
    "#loading data\n",
    "documents=SimpleDirectoryReader(\"Data\").load_data()"
   ]
  },
  {
   "cell_type": "code",
   "execution_count": 5,
   "metadata": {},
   "outputs": [
    {
     "data": {
      "text/plain": [
       "[Document(id_='273b2410-c5c1-4c0f-a632-bf7914779ad9', embedding=None, metadata={'page_label': '1', 'file_name': 'qualnet simulator.pdf', 'file_path': 'c:\\\\Ravikiran\\\\Projects\\\\RAG\\\\Data\\\\qualnet simulator.pdf', 'file_type': 'application/pdf', 'file_size': 230775, 'creation_date': '2023-06-05', 'last_modified_date': '2023-06-05'}, excluded_embed_metadata_keys=['file_name', 'file_type', 'file_size', 'creation_date', 'last_modified_date', 'last_accessed_date'], excluded_llm_metadata_keys=['file_name', 'file_type', 'file_size', 'creation_date', 'last_modified_date', 'last_accessed_date'], relationships={}, text=\" \\n \\n \\n \\n \\n \\n \\n \\n \\n \\n \\n \\n \\n \\n \\n \\nIntroduction:  \\nQualNet allows it effortless to evaluate mobile \\ncommunication networks more rapidly and \\nrealistically than any other tool available. To \\ndigitally represent the complete network, the \\nvarious protocol layers, radios, antennas, and \\ndevices, it uses a network digital twin to \\nrepresent the entire network. QualNet uses \\ncutting -edge Parallel Discret e Event Simulation \\n(PDES) algorithms to run high\\x02fidelity \\nsimulations of large networks at speeds faster \\nthan real -time. PDES algorithms have been \\ndesigned to take benefit of multi -core and \\nparallel processors to drastically boost event \\nprocessing rates an d, consequently, simulation \\nexecution speeds.  \\nThe performance of communication networks \\nis assessed under various operating settings \\nusing the QualNet network simulation \\nplatform (QualNet), and operational faults are \\nfound and addressed. The process of a nalysis \\nbegins with the creation of a simulation model, or scenario, that represents the \\nnetwork and its operating environment. The \\nscenario is then carried out, and the outcomes \\nare analysed.   \\nkey features of the QualNet simulator:  \\nMobility Modelling: To simulate the \\nmovement of nodes in a network, QualNet \\noffers mobility modelling tools. It suppor ts a \\nvariety of mobility models, including group \\nmobility, random waypoint, and imported \\nmobility traces from real -world settings.  \\nVisualisation: To visualise and analyse \\nsimulation results, the simulator provides \\nvisual tools. Users can view real -time \\ninformation, plot graphs, and produce reports \\nfor performance analysis while also keeping \\nan eye on network behaviour.  \\nExtensibility: The ability to create and \\ncombine unique network models, protocols, \\nand algorithms is made possible by QualNet's \\nextensib le architecture. This makes it possible \\nfor researchers to test out new theories and \\nmodelling methods. Models for new \\nprotocols, devices, and applications can be \\nquickly created and incorporated into \\nsimulation scenarios because to the QualNet \\nframework's  high degree of flexibility and \\nextensibility. It is also possible to create high -\\nfidelity models by include actual protocol \\nimplementation code.  \\nScalability: QualNet is built to handle \\ncomplicated network topologies and large -\\nscale network simulations w ith many nodes. \\nTo manage the computing burden, it uses \\neffective simulation algorithms and parallel \\nprocessing techniques.  \\nQualNet can simulate  a wide range of \\nnetworks that are heterogeneous with \\nthousands of nodes exchanging all kinds of \\ntraffic, including wired, wireless, undersea, \\nsatellite, etc. Since these scenarios can run \\nfaster than real -time speed, it is possible to \\nanalyse network perf ormance under different \\noperating circumstances quickly.  \", start_char_idx=None, end_char_idx=None, text_template='{metadata_str}\\n\\n{content}', metadata_template='{key}: {value}', metadata_seperator='\\n'),\n",
       " Document(id_='8cda4e40-5c78-4528-a35e-267a6524e500', embedding=None, metadata={'page_label': '2', 'file_name': 'qualnet simulator.pdf', 'file_path': 'c:\\\\Ravikiran\\\\Projects\\\\RAG\\\\Data\\\\qualnet simulator.pdf', 'file_type': 'application/pdf', 'file_size': 230775, 'creation_date': '2023-06-05', 'last_modified_date': '2023-06-05'}, excluded_embed_metadata_keys=['file_name', 'file_type', 'file_size', 'creation_date', 'last_modified_date', 'last_accessed_date'], excluded_llm_metadata_keys=['file_name', 'file_type', 'file_size', 'creation_date', 'last_modified_date', 'last_accessed_date'], relationships={}, text='QualNet integrates with other well -known \\nnetwork research tools and frameworks like \\nMATLAB, Python, and network simulators like \\nOPNET and ns -3. \\nThe Human -in-the-Loop (HITL) interface in \\nQualNet offers dynamic interactions to modify \\na running scenario\\'s activities. For instance, \\nusers can alter the traffic rate of particular \\napps and activate/deactivate nodes via the \\nHITL interface.  \\nQualnet GUI: As the operation continues to \\noperate, the QualNet GUI can be used to \\nvisualise various packet flow types to provide \\na functional perspective of the network. While \\nan operation is taking place, dynamic statistics \\ncan also be seen on the scr een \\n \\n \\nImplemention of QualNet scenarios:  \\nThe simulation of the network must precisely \\nreflect the network in order to research and \\nanalyse real -world network performance. To \\nbuild network scenarios using preconfigured \\nmodels of devices, link -types, and \\napplications, QualNet offers a simple drag -\\nand-drop interface. By changing certain \\nparameter values via user -friendly property \\neditors, the scenario may be further modified. \\nAdditionally, QualNet offers domain -specific \\n\"palettes\" of pre -configured network \\nelements with sophisticated features, such as \\nsubnets, widely used devices, etc. This offers a \\npractical method of producing simulation \\nmodels of networks that are under \\nconstruction.  \\nQualNet offers a number of tools for quickly \\nsimulating \"as is\" network s and application \\ntraffic in order to analyse existing networks. \\nAs a result, planners and analysts may be \\ncertain that the outcomes of the model \\nsimulation will also hold true for the actual \\nnetwork . \\n . These utilities consist of:  \\n• Topology Converter:  This programme takes a \\nVisio -formatted network topology \\nspecification and builds a simulation model of \\nthe network from it.  \\n• Packet Capture (PCAP) Traffic Mapper: With \\nthe help of a programme like Wireshark, this \\nsoftware transfo rms network traffic into equal \\nsimulated application traffic that can be used \\nin a QualNet simulation to assess network \\nperformance.  \\n• NetFlow Importer: This programme similarly \\ngenerates simulation models of actual \\nnetwork traffic, but it does so using traffic flow \\nstatistics reported in NetFlow packets rather \\nthan data from intercepted packets.  \\n• Router Configuration Importer: In order to \\ndirectly configure the relevant routers in the \\nsimulation models, this programme imports \\nthe real configuration fi les used to setup \\nphysical routers from well -known suppliers, \\nsuch as Cisco.  \\n \\n            Virtual Netwo rking Mo del: \\n \\n \\n', start_char_idx=None, end_char_idx=None, text_template='{metadata_str}\\n\\n{content}', metadata_template='{key}: {value}', metadata_seperator='\\n'),\n",
       " Document(id_='7307e075-411d-4cb5-a713-8b1cb6b40663', embedding=None, metadata={'page_label': '3', 'file_name': 'qualnet simulator.pdf', 'file_path': 'c:\\\\Ravikiran\\\\Projects\\\\RAG\\\\Data\\\\qualnet simulator.pdf', 'file_type': 'application/pdf', 'file_size': 230775, 'creation_date': '2023-06-05', 'last_modified_date': '2023-06-05'}, excluded_embed_metadata_keys=['file_name', 'file_type', 'file_size', 'creation_date', 'last_modified_date', 'last_accessed_date'], excluded_llm_metadata_keys=['file_name', 'file_type', 'file_size', 'creation_date', 'last_modified_date', 'last_accessed_date'], relationships={}, text=\"Qualnet Platform Architecture : \\n \\nComponents of QualNet:  \\nThe major components of QualNet are:  \\n• Simulator: The simulator at the ce ntre of \\nQualNet employs cutting -edge methods to \\nexecute simulations of massive networks \\nquickly without sacrificing accuracy. QualNet's \\nfoundation includes a highly specialised kernel \\nand effective memory management strategies, \\nwhich produce extremely fast  simulation \\nspeeds.  \\nQualNet also makes the most of the \\ncomputational power offered by multi -\\nprocessor systems by utilising effective PDES \\nalgorithms and smart partitioning, which \\ninvolves evenly distributing the workload \\nacross the processors.  \\n• QualNe t GUI: The QualNet GUI offers a user -\\nfriendly platform for creating, viewing, and \\nanalysing network situations.  \\n     o Design Mode: This mode uses a simple \\npoint -and-click, drag -and-drop graphical \\ninterface to design virtual network models.  \\nVirtual network models may incorporate \\ncommunication equipment, wired and \\nwireless links, wireless users' mobility \\npatterns, physical features like topography and \\nstructures, protocols at all stack tiers, etc. \\nThere are several apps and services that may   \\n \\n \\n \\nbe used on the ne twork.  \\n \\n \\n                            Design Mode  \\n                                                                                                                                                                   \\no Visualize Mode: Users may examine dynamic \\ngraphs of real -time data while watching \\npackets at different tiers of the network flow \\nacross the network in this mode, which is \\nintended to observe and analyse network \\nbehaviour while the simulation is running.  \\n \\n\", start_char_idx=None, end_char_idx=None, text_template='{metadata_str}\\n\\n{content}', metadata_template='{key}: {value}', metadata_seperator='\\n'),\n",
       " Document(id_='727aa4d1-c552-4562-a336-cb4afe512770', embedding=None, metadata={'page_label': '4', 'file_name': 'qualnet simulator.pdf', 'file_path': 'c:\\\\Ravikiran\\\\Projects\\\\RAG\\\\Data\\\\qualnet simulator.pdf', 'file_type': 'application/pdf', 'file_size': 230775, 'creation_date': '2023-06-05', 'last_modified_date': '2023-06-05'}, excluded_embed_metadata_keys=['file_name', 'file_type', 'file_size', 'creation_date', 'last_modified_date', 'last_accessed_date'], excluded_llm_metadata_keys=['file_name', 'file_type', 'file_size', 'creation_date', 'last_modified_date', 'last_accessed_date'], relationships={}, text=\"                             Vizuali ze Mode                                            \\n \\no Analyzer: Analyzer is used to plot and \\nanalyse a huge amount of statistics gathered \\nthroughout the simulation after it is finished.  \\n \\n                               Anal yzer \\n \\n• Statistics Database: QualNet offers a high -\\nperformance database interface that enables \\ntime -series and statistical data to be kept in a \\ndatabase during the simulation run in addition \\nto a statistics file. Different levels of \\ngranularity can be used to ga ther statistics, \\nranging from summary statistics at the system \\nlevel to detailed information at the event \\nlevel. The statistics database may be used to create reports and do post -experiment \\nanalysis.  \\n• External Interfaces: Through High Level \\nArchitecture  (HLA), Distributed Interaction \\nSimulation (DIS), AGI's System Tool Kit (STK), \\nand Socket interfaces, QualNet can federate \\nwith various simulators like kinetic warfare \\nsimulations without any issues.  \\n• Model Libraries: Numerous detailed high -\\nfidelity mod els of communication tools, wired \\nand wireless connections, communication \\nprotocols, ambient elements including \\ntopography and structures, and real -world \\napplications are all part of QualNet. There are \\nseveral standard and optional libraries made \\nup of the se models . \\n\", start_char_idx=None, end_char_idx=None, text_template='{metadata_str}\\n\\n{content}', metadata_template='{key}: {value}', metadata_seperator='\\n')]"
      ]
     },
     "execution_count": 5,
     "metadata": {},
     "output_type": "execute_result"
    }
   ],
   "source": [
    "documents"
   ]
  },
  {
   "cell_type": "code",
   "execution_count": 6,
   "metadata": {},
   "outputs": [
    {
     "name": "stderr",
     "output_type": "stream",
     "text": [
      "c:\\Users\\hravi\\anaconda3\\envs\\RAG\\lib\\site-packages\\tqdm\\auto.py:21: TqdmWarning: IProgress not found. Please update jupyter and ipywidgets. See https://ipywidgets.readthedocs.io/en/stable/user_install.html\n",
      "  from .autonotebook import tqdm as notebook_tqdm\n",
      "Parsing nodes: 100%|██████████| 4/4 [00:00<00:00, 391.41it/s]\n",
      "Generating embeddings: 100%|██████████| 4/4 [00:01<00:00,  2.06it/s]\n"
     ]
    }
   ],
   "source": [
    "if api_key:\n",
    "    # Your code to create the index\n",
    "    index = VectorStoreIndex.from_documents(documents, show_progress=True)\n",
    "else:\n",
    "    print(\"API key not found. Please set the API key.\")"
   ]
  },
  {
   "cell_type": "code",
   "execution_count": 7,
   "metadata": {},
   "outputs": [
    {
     "data": {
      "text/plain": [
       "<llama_index.core.indices.vector_store.base.VectorStoreIndex at 0x1b303547160>"
      ]
     },
     "execution_count": 7,
     "metadata": {},
     "output_type": "execute_result"
    }
   ],
   "source": [
    "index"
   ]
  },
  {
   "cell_type": "code",
   "execution_count": 8,
   "metadata": {},
   "outputs": [],
   "source": [
    "query_engine= index.as_query_engine()"
   ]
  },
  {
   "cell_type": "code",
   "execution_count": 27,
   "metadata": {},
   "outputs": [],
   "source": [
    "from llama_index.core.retrievers import VectorIndexRetriever\n",
    "from llama_index.core.query_engine import RetrieverQueryEngine\n",
    "from llama_index.core.indices.postprocessor import SimilarityPostprocessor\n",
    "\n",
    "retriever=VectorIndexRetriever(index=index, similarity_top_k=4)\n",
    "postprocessor = SimilarityPostprocessor(similarity_cutoff=0.80)\n",
    "\n",
    "query_engine=RetrieverQueryEngine(retriever=retriever, node_postprocessors=[postprocessor])"
   ]
  },
  {
   "cell_type": "code",
   "execution_count": 28,
   "metadata": {},
   "outputs": [],
   "source": [
    "response=query_engine.query(\"What is Qualnet simulator\")"
   ]
  },
  {
   "cell_type": "code",
   "execution_count": 29,
   "metadata": {},
   "outputs": [
    {
     "name": "stdout",
     "output_type": "stream",
     "text": [
      "QualNet simulator is a network simulation platform that utilizes cutting-edge methods and Parallel Discrete Event Simulation (PDES) algorithms to quickly and accurately simulate large networks. It offers features such as mobility modeling, visualization tools, extensibility for creating unique network models, scalability for handling complex network topologies, and integration with other network research tools. QualNet allows users to create simulation models of networks, analyze network performance under various operating conditions, and interact dynamically with running scenarios through its GUI.\n"
     ]
    }
   ],
   "source": [
    "print(response)"
   ]
  },
  {
   "cell_type": "code",
   "execution_count": 30,
   "metadata": {},
   "outputs": [
    {
     "name": "stdout",
     "output_type": "stream",
     "text": [
      "Final Response: QualNet simulator is a network simulation platform\n",
      "that utilizes cutting-edge methods and Parallel Discrete Event\n",
      "Simulation (PDES) algorithms to quickly and accurately simulate large\n",
      "networks. It offers features such as mobility modeling, visualization\n",
      "tools, extensibility for creating unique network models, scalability\n",
      "for handling complex network topologies, and integration with other\n",
      "network research tools. QualNet allows users to create simulation\n",
      "models of networks, analyze network performance under various\n",
      "operating conditions, and interact dynamically with running scenarios\n",
      "through its GUI.\n",
      "______________________________________________________________________\n",
      "Source Node 1/4\n",
      "Node ID: b1cdeab1-54e2-4f68-a559-bad8afccec4c\n",
      "Similarity: 0.8205452809914108\n",
      "Text: Qualnet Platform Architecture :    Components of QualNet:   The\n",
      "major components of QualNet are:   • Simulator: The simulator at the\n",
      "ce ntre of  QualNet employs cutting -edge methods to  execute\n",
      "simulations of massive networks  quickly without sacrificing accuracy.\n",
      "QualNet's  foundation includes a highly specialised kernel  and\n",
      "effective memory ...\n",
      "______________________________________________________________________\n",
      "Source Node 2/4\n",
      "Node ID: 4fda767e-a6c9-4249-95cd-62ed3e760125\n",
      "Similarity: 0.8154029173729397\n",
      "Text: Introduction:   QualNet allows it effortless to evaluate mobile\n",
      "communication networks more rapidly and  realistically than any other\n",
      "tool available. To  digitally represent the complete network, the\n",
      "various protocol layers, radios, antennas, and  devices, it uses a\n",
      "network digital twin to  represent the entire network. QualNet uses\n",
      "cutting -...\n",
      "______________________________________________________________________\n",
      "Source Node 3/4\n",
      "Node ID: d7f4dac9-8bb2-4bb6-b59c-8210ec7f6730\n",
      "Similarity: 0.8069221325178975\n",
      "Text: QualNet integrates with other well -known  network research\n",
      "tools and frameworks like  MATLAB, Python, and network simulators like\n",
      "OPNET and ns -3.  The Human -in-the-Loop (HITL) interface in  QualNet\n",
      "offers dynamic interactions to modify  a running scenario's\n",
      "activities. For instance,  users can alter the traffic rate of\n",
      "particular  apps and a...\n",
      "______________________________________________________________________\n",
      "Source Node 4/4\n",
      "Node ID: 858e5d93-61f8-433f-9fc1-038e66f235e2\n",
      "Similarity: 0.8004486455614499\n",
      "Text: Vizuali ze Mode                                               o\n",
      "Analyzer: Analyzer is used to plot and  analyse a huge amount of\n",
      "statistics gathered  throughout the simulation after it is finished.\n",
      "Anal yzer    • Statistics Database: QualNet offers a high -\n",
      "performance database interface that enables  time -ser...\n"
     ]
    }
   ],
   "source": [
    "from llama_index.core.response.pprint_utils import pprint_response\n",
    "pprint_response(response, show_source=True)\n"
   ]
  },
  {
   "cell_type": "code",
   "execution_count": null,
   "metadata": {},
   "outputs": [],
   "source": []
  }
 ],
 "metadata": {
  "kernelspec": {
   "display_name": "RAG",
   "language": "python",
   "name": "python3"
  },
  "language_info": {
   "codemirror_mode": {
    "name": "ipython",
    "version": 3
   },
   "file_extension": ".py",
   "mimetype": "text/x-python",
   "name": "python",
   "nbconvert_exporter": "python",
   "pygments_lexer": "ipython3",
   "version": "3.10.14"
  }
 },
 "nbformat": 4,
 "nbformat_minor": 2
}
